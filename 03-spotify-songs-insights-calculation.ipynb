{
 "cells": [
  {
   "cell_type": "markdown",
   "id": "2e860b9c",
   "metadata": {
    "papermill": {
     "duration": 0.00337,
     "end_time": "2024-11-12T11:40:37.841650",
     "exception": false,
     "start_time": "2024-11-12T11:40:37.838280",
     "status": "completed"
    },
    "tags": []
   },
   "source": [
    "# Spotify Songs Project - Insights calculations\n",
    "The aim for this notebook is to specify the impact of the insights that we are building for this project.\n",
    "### Link to full project:\n",
    "- https://lemagaston.wordpress.com/2024/11/11/01-first-portfolio-project-spotify-songs-insights/\n",
    "### Previous steps:\n",
    "- Data exploratory: https://www.kaggle.com/code/gastnezequiellema/spotify-songs-data-exploratory/notebook\n",
    "- Data visualization: https://public.tableau.com/app/profile/gast.n.lema/viz/2020_30k_spotify_songs/Topartists?publish=yes"
   ]
  },
  {
   "cell_type": "code",
   "execution_count": 1,
   "id": "cc9f840b",
   "metadata": {
    "_cell_guid": "b1076dfc-b9ad-4769-8c92-a6c4dae69d19",
    "_uuid": "8f2839f25d086af736a60e9eeb907d3b93b6e0e5",
    "execution": {
     "iopub.execute_input": "2024-11-12T11:40:37.849989Z",
     "iopub.status.busy": "2024-11-12T11:40:37.849488Z",
     "iopub.status.idle": "2024-11-12T11:40:39.175575Z",
     "shell.execute_reply": "2024-11-12T11:40:39.174183Z"
    },
    "papermill": {
     "duration": 1.333593,
     "end_time": "2024-11-12T11:40:39.178355",
     "exception": false,
     "start_time": "2024-11-12T11:40:37.844762",
     "status": "completed"
    },
    "tags": []
   },
   "outputs": [
    {
     "name": "stdout",
     "output_type": "stream",
     "text": [
      "['track_id', 'track_name', 'track_artist', 'track_popularity', 'track_album_id', 'track_album_name', 'track_album_release_date', 'danceability', 'energy', 'key', 'loudness', 'mode', 'speechiness', 'acousticness', 'instrumentalness', 'liveness', 'valence', 'tempo', 'duration_ms']\n"
     ]
    }
   ],
   "source": [
    "# Import dataset as data frame\n",
    "import pandas as pd\n",
    "\n",
    "df = pd.read_csv('/kaggle/input/spotify-songs-data-exploratory/spotify_songs_clean.csv') # Change dataset\n",
    "print(df.columns.tolist())\n",
    "\n"
   ]
  },
  {
   "cell_type": "code",
   "execution_count": 2,
   "id": "a2700f02",
   "metadata": {
    "execution": {
     "iopub.execute_input": "2024-11-12T11:40:39.186444Z",
     "iopub.status.busy": "2024-11-12T11:40:39.185968Z",
     "iopub.status.idle": "2024-11-12T11:40:40.567177Z",
     "shell.execute_reply": "2024-11-12T11:40:40.565652Z"
    },
    "papermill": {
     "duration": 1.388664,
     "end_time": "2024-11-12T11:40:40.570138",
     "exception": false,
     "start_time": "2024-11-12T11:40:39.181474",
     "status": "completed"
    },
    "tags": []
   },
   "outputs": [
    {
     "name": "stdout",
     "output_type": "stream",
     "text": [
      "\n",
      "Tempo Insight:\n",
      "Among the top 1000 tracks, 50.5% have a tempo between 91-127 BPM. These tracks perform 106.5% better than the overall average.\n",
      "\n",
      "Duration Insight:\n",
      "Among the top 1000 tracks, 72.3% have a duration between 2.5-4.1 minutes. These tracks perform 106.3% better than the overall average.\n",
      "\n",
      "Danceability Insight:\n",
      "In top 1000 tracks, danceability shows a weak correlation of 0.101 with popularity. The average danceability is 0.682.\n",
      "\n",
      "Energy Insight:\n",
      "In top 1000 tracks, energy shows a weak correlation of -0.142 with popularity. The average energy is 0.653.\n"
     ]
    }
   ],
   "source": [
    "import numpy as np\n",
    "from scipy import stats\n",
    "\n",
    "def analyze_top_tracks_factors(df, top_n=1000):\n",
    "    \"\"\"\n",
    "    Analyze success factors focusing on top n most popular tracks\n",
    "    \"\"\"\n",
    "    # Sort by popularity and get top n tracks\n",
    "    top_tracks = df.nlargest(top_n, 'track_popularity').copy()\n",
    "    results = {}\n",
    "    \n",
    "    # Calculate means for comparison\n",
    "    total_mean_popularity = df['track_popularity'].mean()\n",
    "    top_mean_popularity = top_tracks['track_popularity'].mean()\n",
    "    \n",
    "    # Store reference metrics\n",
    "    results['reference'] = {\n",
    "        'total_tracks': len(df),\n",
    "        'total_mean_popularity': total_mean_popularity,\n",
    "        'top_mean_popularity': top_mean_popularity\n",
    "    }\n",
    "    \n",
    "    # 1. Tempo Analysis (91-127 bpm)\n",
    "    tempo_mask = (top_tracks['tempo'] >= 91) & (top_tracks['tempo'] <= 127)\n",
    "    tempo_tracks = top_tracks[tempo_mask]\n",
    "    \n",
    "    tempo_stats = {\n",
    "        'mean_popularity': tempo_tracks['track_popularity'].mean(),\n",
    "        'percentage_difference': ((tempo_tracks['track_popularity'].mean() - total_mean_popularity) / total_mean_popularity) * 100,\n",
    "        'count_in_range': len(tempo_tracks),\n",
    "        'percentage_in_range': (len(tempo_tracks) / len(top_tracks)) * 100\n",
    "    }\n",
    "    results['tempo_analysis'] = tempo_stats\n",
    "    \n",
    "    # 2. Duration Analysis (159000-246000 ms ~ 2.5-4.1 minutes)\n",
    "    duration_mask = (top_tracks['duration_ms'] >= 159000) & (top_tracks['duration_ms'] <= 246000)\n",
    "    duration_tracks = top_tracks[duration_mask]\n",
    "    \n",
    "    duration_stats = {\n",
    "        'mean_popularity': duration_tracks['track_popularity'].mean(),\n",
    "        'percentage_difference': ((duration_tracks['track_popularity'].mean() - total_mean_popularity) / total_mean_popularity) * 100,\n",
    "        'count_in_range': len(duration_tracks),\n",
    "        'percentage_in_range': (len(duration_tracks) / len(top_tracks)) * 100\n",
    "    }\n",
    "    results['duration_analysis'] = duration_stats\n",
    "    \n",
    "    # 3. Danceability Correlation in Top Tracks\n",
    "    dance_corr = stats.pearsonr(top_tracks['danceability'], top_tracks['track_popularity'])\n",
    "    dance_stats = {\n",
    "        'correlation_coefficient': dance_corr[0],\n",
    "        'p_value': dance_corr[1],\n",
    "        'correlation_strength': 'Strong' if abs(dance_corr[0]) > 0.5 else 'Moderate' if abs(dance_corr[0]) > 0.3 else 'Weak',\n",
    "        'mean_danceability': top_tracks['danceability'].mean(),\n",
    "        'median_danceability': top_tracks['danceability'].median()\n",
    "    }\n",
    "    results['danceability_correlation'] = dance_stats\n",
    "    \n",
    "    # 4. Energy Correlation in Top Tracks\n",
    "    energy_corr = stats.pearsonr(top_tracks['energy'], top_tracks['track_popularity'])\n",
    "    energy_stats = {\n",
    "        'correlation_coefficient': energy_corr[0],\n",
    "        'p_value': energy_corr[1],\n",
    "        'correlation_strength': 'Strong' if abs(energy_corr[0]) > 0.5 else 'Moderate' if abs(energy_corr[0]) > 0.3 else 'Weak',\n",
    "        'mean_energy': top_tracks['energy'].mean(),\n",
    "        'median_energy': top_tracks['energy'].median()\n",
    "    }\n",
    "    results['energy_correlation'] = energy_stats\n",
    "    \n",
    "    return results\n",
    "\n",
    "def format_top_tracks_insights(results):\n",
    "    \"\"\"\n",
    "    Format the analysis results into presentation-ready insights\n",
    "    \"\"\"\n",
    "    insights = {\n",
    "        'tempo_insight': (\n",
    "            f\"Among the top 1000 tracks, {results['tempo_analysis']['percentage_in_range']:.1f}% \"\n",
    "            f\"have a tempo between 91-127 BPM. These tracks perform \"\n",
    "            f\"{results['tempo_analysis']['percentage_difference']:.1f}% better than the overall average.\"\n",
    "        ),\n",
    "        'duration_insight': (\n",
    "            f\"Among the top 1000 tracks, {results['duration_analysis']['percentage_in_range']:.1f}% \"\n",
    "            f\"have a duration between 2.5-4.1 minutes. These tracks perform \"\n",
    "            f\"{results['duration_analysis']['percentage_difference']:.1f}% better than the overall average.\"\n",
    "        ),\n",
    "        'danceability_insight': (\n",
    "            f\"In top 1000 tracks, danceability shows a {results['danceability_correlation']['correlation_strength'].lower()} \"\n",
    "            f\"correlation of {results['danceability_correlation']['correlation_coefficient']:.3f} with popularity. \"\n",
    "            f\"The average danceability is {results['danceability_correlation']['mean_danceability']:.3f}.\"\n",
    "        ),\n",
    "        'energy_insight': (\n",
    "            f\"In top 1000 tracks, energy shows a {results['energy_correlation']['correlation_strength'].lower()} \"\n",
    "            f\"correlation of {results['energy_correlation']['correlation_coefficient']:.3f} with popularity. \"\n",
    "            f\"The average energy is {results['energy_correlation']['mean_energy']:.3f}.\"\n",
    "        )\n",
    "    }\n",
    "    return insights\n",
    "\n",
    "# Example usage:\n",
    "results = analyze_top_tracks_factors(df)\n",
    "insights = format_top_tracks_insights(results)\n",
    "for key, insight in insights.items():\n",
    "    print(f\"\\n{key.replace('_', ' ').title()}:\")\n",
    "    print(insight)"
   ]
  },
  {
   "cell_type": "code",
   "execution_count": 3,
   "id": "a4287897",
   "metadata": {
    "execution": {
     "iopub.execute_input": "2024-11-12T11:40:40.578858Z",
     "iopub.status.busy": "2024-11-12T11:40:40.578276Z",
     "iopub.status.idle": "2024-11-12T11:40:40.641656Z",
     "shell.execute_reply": "2024-11-12T11:40:40.640309Z"
    },
    "papermill": {
     "duration": 0.071616,
     "end_time": "2024-11-12T11:40:40.645292",
     "exception": false,
     "start_time": "2024-11-12T11:40:40.573676",
     "status": "completed"
    },
    "tags": []
   },
   "outputs": [
    {
     "name": "stdout",
     "output_type": "stream",
     "text": [
      "\n",
      "Top 100 Insight:\n",
      "Top 100 tracks have an average danceability of 0.703, with a correlation of 0.052 between danceability and popularity.\n",
      "\n",
      "Success Rate Insight:\n",
      "Highly danceable tracks are 23.3% more likely to be successful compared to less danceable tracks. 12.2% of highly danceable tracks reach the top 10% in popularity.\n",
      "\n",
      "Popularity Tier Insight:\n",
      "Danceability progressively increases with popularity tiers. Top 20% tracks have 3.4% higher danceability than bottom 20% tracks.\n"
     ]
    }
   ],
   "source": [
    "import pandas as pd\n",
    "import numpy as np\n",
    "from scipy import stats\n",
    "\n",
    "def analyze_danceability_relationship(df):\n",
    "    \"\"\"\n",
    "    Deep analysis of danceability's relationship with track popularity using multiple approaches\n",
    "    \"\"\"\n",
    "    results = {}\n",
    "    \n",
    "    # 1. Top 100 Analysis\n",
    "    top_100 = df.nlargest(100, 'track_popularity')\n",
    "    dance_corr_100 = stats.pearsonr(top_100['danceability'], top_100['track_popularity'])\n",
    "    \n",
    "    # 2. Quartile Analysis\n",
    "    df['danceability_quartile'] = pd.qcut(df['danceability'], q=4, labels=['Q1', 'Q2', 'Q3', 'Q4'])\n",
    "    quartile_stats = df.groupby('danceability_quartile', observed=True)['track_popularity'].agg(['mean', 'count'])\n",
    "    \n",
    "    # 3. Success Rate Analysis\n",
    "    # Define 'high danceability' as top 25% of danceability\n",
    "    high_dance_threshold = df['danceability'].quantile(0.75)\n",
    "    # Define 'successful' as top 10% of popularity\n",
    "    success_threshold = df['track_popularity'].quantile(0.9)\n",
    "    \n",
    "    high_dance_tracks = df[df['danceability'] >= high_dance_threshold]\n",
    "    success_rate_high_dance = (high_dance_tracks['track_popularity'] >= success_threshold).mean() * 100\n",
    "    \n",
    "    low_dance_tracks = df[df['danceability'] < high_dance_threshold]\n",
    "    success_rate_low_dance = (low_dance_tracks['track_popularity'] >= success_threshold).mean() * 100\n",
    "    \n",
    "    # 4. Average Danceability by Popularity Tiers\n",
    "    df['popularity_tier'] = pd.qcut(df['track_popularity'], q=5, labels=['Bottom 20%', '20-40%', '40-60%', '60-80%', 'Top 20%'])\n",
    "    tier_stats = df.groupby('popularity_tier', observed=True)['danceability'].mean()\n",
    "    \n",
    "    results = {\n",
    "        'top_100_analysis': {\n",
    "            'mean_danceability': top_100['danceability'].mean(),\n",
    "            'median_danceability': top_100['danceability'].median(),\n",
    "            'correlation': dance_corr_100[0],\n",
    "            'p_value': dance_corr_100[1]\n",
    "        },\n",
    "        'quartile_analysis': quartile_stats.to_dict(),\n",
    "        'success_rates': {\n",
    "            'high_danceability_success_rate': success_rate_high_dance,\n",
    "            'low_danceability_success_rate': success_rate_low_dance,\n",
    "            'relative_improvement': ((success_rate_high_dance - success_rate_low_dance) / success_rate_low_dance) * 100\n",
    "        },\n",
    "        'popularity_tiers': tier_stats.to_dict()\n",
    "    }\n",
    "    \n",
    "    return results\n",
    "\n",
    "def format_danceability_insights(results):\n",
    "    \"\"\"\n",
    "    Format the danceability analysis results into presentation-ready insights\n",
    "    \"\"\"\n",
    "    insights = {\n",
    "        'top_100_insight': (\n",
    "            f\"Top 100 tracks have an average danceability of {results['top_100_analysis']['mean_danceability']:.3f}, \"\n",
    "            f\"with a correlation of {results['top_100_analysis']['correlation']:.3f} between danceability and popularity.\"\n",
    "        ),\n",
    "        'success_rate_insight': (\n",
    "            f\"Highly danceable tracks are {results['success_rates']['relative_improvement']:.1f}% more likely \"\n",
    "            f\"to be successful compared to less danceable tracks. \"\n",
    "            f\"{results['success_rates']['high_danceability_success_rate']:.1f}% of highly danceable tracks \"\n",
    "            f\"reach the top 10% in popularity.\"\n",
    "        ),\n",
    "        'popularity_tier_insight': (\n",
    "            f\"Danceability progressively increases with popularity tiers. \"\n",
    "            f\"Top 20% tracks have {((results['popularity_tiers']['Top 20%'] / results['popularity_tiers']['Bottom 20%']) - 1) * 100:.1f}% \"\n",
    "            f\"higher danceability than bottom 20% tracks.\"\n",
    "        )\n",
    "    }\n",
    "    return insights\n",
    "\n",
    "# Example usage:\n",
    "results = analyze_danceability_relationship(df)\n",
    "insights = format_danceability_insights(results)\n",
    "for key, insight in insights.items():\n",
    "    print(f\"\\n{key.replace('_', ' ').title()}:\")\n",
    "    print(insight)"
   ]
  }
 ],
 "metadata": {
  "kaggle": {
   "accelerator": "none",
   "dataSources": [
    {
     "sourceId": 206655959,
     "sourceType": "kernelVersion"
    }
   ],
   "dockerImageVersionId": 30786,
   "isGpuEnabled": false,
   "isInternetEnabled": true,
   "language": "python",
   "sourceType": "notebook"
  },
  "kernelspec": {
   "display_name": "Python 3",
   "language": "python",
   "name": "python3"
  },
  "language_info": {
   "codemirror_mode": {
    "name": "ipython",
    "version": 3
   },
   "file_extension": ".py",
   "mimetype": "text/x-python",
   "name": "python",
   "nbconvert_exporter": "python",
   "pygments_lexer": "ipython3",
   "version": "3.10.14"
  },
  "papermill": {
   "default_parameters": {},
   "duration": 6.674977,
   "end_time": "2024-11-12T11:40:41.271397",
   "environment_variables": {},
   "exception": null,
   "input_path": "__notebook__.ipynb",
   "output_path": "__notebook__.ipynb",
   "parameters": {},
   "start_time": "2024-11-12T11:40:34.596420",
   "version": "2.6.0"
  }
 },
 "nbformat": 4,
 "nbformat_minor": 5
}
