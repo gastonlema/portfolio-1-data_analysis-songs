{
 "cells": [
  {
   "cell_type": "markdown",
   "id": "6c6067ed",
   "metadata": {
    "papermill": {
     "duration": 0.008825,
     "end_time": "2024-11-12T11:34:49.734182",
     "exception": false,
     "start_time": "2024-11-12T11:34:49.725357",
     "status": "completed"
    },
    "tags": []
   },
   "source": [
    "# 30000 Spotify songs data\n",
    "\n",
    "Dataset description\n",
    "The data this week comes from Spotify via the [`spotifyr` package](https://www.rcharlie.com/spotifyr/). [Charlie Thompson](https://twitter.com/_RCharlie), [Josiah Parry](https://twitter.com/JosiahParry), Donal Phipps, and Tom Wolff authored this package to make it easier to get either your own data or general metadata arounds songs from Spotify's API. \n",
    "\n",
    "Goal:\n",
    "Validate, clean, explore and prepare data for data visualization\n",
    "\n",
    "Full complete project:\n",
    "https://lemagaston.wordpress.com/2024/11/11/01-first-portfolio-project-spotify-songs-insights/"
   ]
  },
  {
   "cell_type": "markdown",
   "id": "616a39fd",
   "metadata": {
    "papermill": {
     "duration": 0.007772,
     "end_time": "2024-11-12T11:34:49.750395",
     "exception": false,
     "start_time": "2024-11-12T11:34:49.742623",
     "status": "completed"
    },
    "tags": []
   },
   "source": [
    "## Data Ingestion"
   ]
  },
  {
   "cell_type": "code",
   "execution_count": 1,
   "id": "e5391609",
   "metadata": {
    "_cell_guid": "b1076dfc-b9ad-4769-8c92-a6c4dae69d19",
    "_uuid": "8f2839f25d086af736a60e9eeb907d3b93b6e0e5",
    "execution": {
     "iopub.execute_input": "2024-11-12T11:34:49.768558Z",
     "iopub.status.busy": "2024-11-12T11:34:49.768135Z",
     "iopub.status.idle": "2024-11-12T11:34:51.287889Z",
     "shell.execute_reply": "2024-11-12T11:34:51.285717Z"
    },
    "papermill": {
     "duration": 1.53229,
     "end_time": "2024-11-12T11:34:51.290815",
     "exception": false,
     "start_time": "2024-11-12T11:34:49.758525",
     "status": "completed"
    },
    "tags": []
   },
   "outputs": [
    {
     "name": "stdout",
     "output_type": "stream",
     "text": [
      "['track_id', 'track_name', 'track_artist', 'track_popularity', 'track_album_id', 'track_album_name', 'track_album_release_date', 'playlist_name', 'playlist_id', 'playlist_genre', 'playlist_subgenre', 'danceability', 'energy', 'key', 'loudness', 'mode', 'speechiness', 'acousticness', 'instrumentalness', 'liveness', 'valence', 'tempo', 'duration_ms']\n"
     ]
    }
   ],
   "source": [
    "# Import dataset as data frame\n",
    "import pandas as pd\n",
    "\n",
    "df = pd.read_csv('/kaggle/input/30000-spotify-songs/spotify_songs.csv') # Change dataset\n",
    "print(df.columns.tolist())"
   ]
  },
  {
   "cell_type": "markdown",
   "id": "56c55957",
   "metadata": {
    "papermill": {
     "duration": 0.008132,
     "end_time": "2024-11-12T11:34:51.307397",
     "exception": false,
     "start_time": "2024-11-12T11:34:51.299265",
     "status": "completed"
    },
    "tags": []
   },
   "source": [
    "## Data cleaning and validation\r\n",
    "We are going to look for missing values and validate the uniqueness of possible IDs."
   ]
  },
  {
   "cell_type": "code",
   "execution_count": 2,
   "id": "0ba17fe3",
   "metadata": {
    "execution": {
     "iopub.execute_input": "2024-11-12T11:34:51.327014Z",
     "iopub.status.busy": "2024-11-12T11:34:51.325890Z",
     "iopub.status.idle": "2024-11-12T11:34:51.504545Z",
     "shell.execute_reply": "2024-11-12T11:34:51.502686Z"
    },
    "papermill": {
     "duration": 0.191999,
     "end_time": "2024-11-12T11:34:51.507843",
     "exception": false,
     "start_time": "2024-11-12T11:34:51.315844",
     "status": "completed"
    },
    "tags": []
   },
   "outputs": [
    {
     "name": "stdout",
     "output_type": "stream",
     "text": [
      "<class 'pandas.core.frame.DataFrame'>\n",
      "RangeIndex: 32833 entries, 0 to 32832\n",
      "Data columns (total 23 columns):\n",
      " #   Column                    Non-Null Count  Dtype  \n",
      "---  ------                    --------------  -----  \n",
      " 0   track_id                  32833 non-null  object \n",
      " 1   track_name                32828 non-null  object \n",
      " 2   track_artist              32828 non-null  object \n",
      " 3   track_popularity          32833 non-null  int64  \n",
      " 4   track_album_id            32833 non-null  object \n",
      " 5   track_album_name          32828 non-null  object \n",
      " 6   track_album_release_date  32833 non-null  object \n",
      " 7   playlist_name             32833 non-null  object \n",
      " 8   playlist_id               32833 non-null  object \n",
      " 9   playlist_genre            32833 non-null  object \n",
      " 10  playlist_subgenre         32833 non-null  object \n",
      " 11  danceability              32833 non-null  float64\n",
      " 12  energy                    32833 non-null  float64\n",
      " 13  key                       32833 non-null  int64  \n",
      " 14  loudness                  32833 non-null  float64\n",
      " 15  mode                      32833 non-null  int64  \n",
      " 16  speechiness               32833 non-null  float64\n",
      " 17  acousticness              32833 non-null  float64\n",
      " 18  instrumentalness          32833 non-null  float64\n",
      " 19  liveness                  32833 non-null  float64\n",
      " 20  valence                   32833 non-null  float64\n",
      " 21  tempo                     32833 non-null  float64\n",
      " 22  duration_ms               32833 non-null  int64  \n",
      "dtypes: float64(9), int64(4), object(10)\n",
      "memory usage: 5.8+ MB\n",
      "None\n",
      "       track_popularity  danceability        energy           key  \\\n",
      "count      32833.000000  32833.000000  32833.000000  32833.000000   \n",
      "mean          42.477081      0.654850      0.698619      5.374471   \n",
      "std           24.984074      0.145085      0.180910      3.611657   \n",
      "min            0.000000      0.000000      0.000175      0.000000   \n",
      "25%           24.000000      0.563000      0.581000      2.000000   \n",
      "50%           45.000000      0.672000      0.721000      6.000000   \n",
      "75%           62.000000      0.761000      0.840000      9.000000   \n",
      "max          100.000000      0.983000      1.000000     11.000000   \n",
      "\n",
      "           loudness          mode   speechiness  acousticness  \\\n",
      "count  32833.000000  32833.000000  32833.000000  32833.000000   \n",
      "mean      -6.719499      0.565711      0.107068      0.175334   \n",
      "std        2.988436      0.495671      0.101314      0.219633   \n",
      "min      -46.448000      0.000000      0.000000      0.000000   \n",
      "25%       -8.171000      0.000000      0.041000      0.015100   \n",
      "50%       -6.166000      1.000000      0.062500      0.080400   \n",
      "75%       -4.645000      1.000000      0.132000      0.255000   \n",
      "max        1.275000      1.000000      0.918000      0.994000   \n",
      "\n",
      "       instrumentalness      liveness       valence         tempo  \\\n",
      "count      32833.000000  32833.000000  32833.000000  32833.000000   \n",
      "mean           0.084747      0.190176      0.510561    120.881132   \n",
      "std            0.224230      0.154317      0.233146     26.903624   \n",
      "min            0.000000      0.000000      0.000000      0.000000   \n",
      "25%            0.000000      0.092700      0.331000     99.960000   \n",
      "50%            0.000016      0.127000      0.512000    121.984000   \n",
      "75%            0.004830      0.248000      0.693000    133.918000   \n",
      "max            0.994000      0.996000      0.991000    239.440000   \n",
      "\n",
      "         duration_ms  \n",
      "count   32833.000000  \n",
      "mean   225799.811622  \n",
      "std     59834.006182  \n",
      "min      4000.000000  \n",
      "25%    187819.000000  \n",
      "50%    216000.000000  \n",
      "75%    253585.000000  \n",
      "max    517810.000000  \n",
      "                 track_id                                         track_name  \\\n",
      "0  6f807x0ima9a1j3VPbc7VN  I Don't Care (with Justin Bieber) - Loud Luxur...   \n",
      "1  0r7CVbZTWZgbTCYdfa2P31                    Memories - Dillon Francis Remix   \n",
      "2  1z1Hg7Vb0AhHDiEmnDE79l                    All the Time - Don Diablo Remix   \n",
      "3  75FpbthrwQmzHlBJLuGdC7                  Call You Mine - Keanu Silva Remix   \n",
      "4  1e8PAfcKUYoKkxPhrHqw4x            Someone You Loved - Future Humans Remix   \n",
      "\n",
      "       track_artist  track_popularity          track_album_id  \\\n",
      "0        Ed Sheeran                66  2oCs0DGTsRO98Gh5ZSl2Cx   \n",
      "1          Maroon 5                67  63rPSO264uRjW1X5E6cWv6   \n",
      "2      Zara Larsson                70  1HoSmj2eLcsrR0vE9gThr4   \n",
      "3  The Chainsmokers                60  1nqYsOef1yKKuGOVchbsk6   \n",
      "4     Lewis Capaldi                69  7m7vv9wlQ4i0LFuJiE2zsQ   \n",
      "\n",
      "                                    track_album_name track_album_release_date  \\\n",
      "0  I Don't Care (with Justin Bieber) [Loud Luxury...               2019-06-14   \n",
      "1                    Memories (Dillon Francis Remix)               2019-12-13   \n",
      "2                    All the Time (Don Diablo Remix)               2019-07-05   \n",
      "3                        Call You Mine - The Remixes               2019-07-19   \n",
      "4            Someone You Loved (Future Humans Remix)               2019-03-05   \n",
      "\n",
      "  playlist_name             playlist_id playlist_genre  ... key  loudness  \\\n",
      "0     Pop Remix  37i9dQZF1DXcZDD7cfEKhW            pop  ...   6    -2.634   \n",
      "1     Pop Remix  37i9dQZF1DXcZDD7cfEKhW            pop  ...  11    -4.969   \n",
      "2     Pop Remix  37i9dQZF1DXcZDD7cfEKhW            pop  ...   1    -3.432   \n",
      "3     Pop Remix  37i9dQZF1DXcZDD7cfEKhW            pop  ...   7    -3.778   \n",
      "4     Pop Remix  37i9dQZF1DXcZDD7cfEKhW            pop  ...   1    -4.672   \n",
      "\n",
      "   mode  speechiness  acousticness  instrumentalness  liveness  valence  \\\n",
      "0     1       0.0583        0.1020          0.000000    0.0653    0.518   \n",
      "1     1       0.0373        0.0724          0.004210    0.3570    0.693   \n",
      "2     0       0.0742        0.0794          0.000023    0.1100    0.613   \n",
      "3     1       0.1020        0.0287          0.000009    0.2040    0.277   \n",
      "4     1       0.0359        0.0803          0.000000    0.0833    0.725   \n",
      "\n",
      "     tempo  duration_ms  \n",
      "0  122.036       194754  \n",
      "1   99.972       162600  \n",
      "2  124.008       176616  \n",
      "3  121.956       169093  \n",
      "4  123.976       189052  \n",
      "\n",
      "[5 rows x 23 columns]\n",
      "                     track_id                            track_name  \\\n",
      "7698   2eMwDehkIC1j68U6FA3Eiq                         XO TOUR Llif3   \n",
      "14603  0v9zEZ8aSie2wi2V8YGkE0                                  Grim   \n",
      "9735   5XMRDVl28VdvfqL0IFIiss                        Con el Corazon   \n",
      "6911   3XcsaghGUCL9WzJz3TlLKo                           On My Block   \n",
      "12477  3EM42kT3ARiZJhXJPoFaZe  Heroes - Single Version [Remastered]   \n",
      "\n",
      "          track_artist  track_popularity          track_album_id  \\\n",
      "7698      Lil Uzi Vert                11  4CZVGlURM8vncG4ftZULTS   \n",
      "14603  The Blue Stones                56  2VqKEI8WqqWqcSO81U0Hwd   \n",
      "9735   Cartel De Santa                46  6XpSHxvcHf2VbRpDnMN091   \n",
      "6911          Scarface                 1  08QH6uS4BzYcPqeAbpcnhg   \n",
      "12477      David Bowie                43  3nSP0MJ9XyYZjCRowFaUbo   \n",
      "\n",
      "                 track_album_name track_album_release_date  \\\n",
      "7698                XO TOUR Llif3               2017-03-24   \n",
      "14603                        Grim               2019-12-13   \n",
      "9735                      Sincopa               2011-07-25   \n",
      "6911   The Fix (Explicit Version)               2002-01-01   \n",
      "12477     Legacy (Deluxe Edition)               2016-11-11   \n",
      "\n",
      "                                           playlist_name  \\\n",
      "7698           🔥💵 Hip Hop, Rap, Heavy 808's - New School   \n",
      "14603  Modern Indie Rock // Alternative Rock / Garage...   \n",
      "9735                                 Mexican Gangsta Rap   \n",
      "6911                                    Southern Hip Hop   \n",
      "12477                                       Classic Rock   \n",
      "\n",
      "                  playlist_id playlist_genre  ... key  loudness  mode  \\\n",
      "7698   3jPkaExIWXQWklcmmF5180            rap  ...  11    -6.366     0   \n",
      "14603  1VnvyBDqoV5TCZAnXYferL           rock  ...  11    -5.637     0   \n",
      "9735   28Ke4pXWqF2A5b2GfQ1pQt            rap  ...   6    -5.265     0   \n",
      "6911   4lcyWQDOzPfcbZrcBI3FOW            rap  ...  10    -3.194     1   \n",
      "12477  5BygwTQ3OrbiwVsQhXFHMz           rock  ...   7    -8.263     1   \n",
      "\n",
      "       speechiness  acousticness  instrumentalness  liveness  valence  \\\n",
      "7698        0.2310      0.002640          0.000000    0.1090    0.401   \n",
      "14603       0.1720      0.000606          0.005140    0.3670    0.336   \n",
      "9735        0.3290      0.048700          0.000001    0.1030    0.828   \n",
      "6911        0.2050      0.165000          0.000000    0.0533    0.601   \n",
      "12477       0.0276      0.016000          0.107000    0.1020    0.584   \n",
      "\n",
      "         tempo  duration_ms  \n",
      "7698   155.096       182707  \n",
      "14603  167.871       302944  \n",
      "9735   173.009       359173  \n",
      "6911    82.766       214533  \n",
      "12477  112.160       213813  \n",
      "\n",
      "[5 rows x 23 columns]\n"
     ]
    }
   ],
   "source": [
    "print(df.info())\n",
    "print(df.describe())\n",
    "print(df.head())\n",
    "print(df.sample(n=5))"
   ]
  },
  {
   "cell_type": "markdown",
   "id": "d6698f9e",
   "metadata": {
    "papermill": {
     "duration": 0.008665,
     "end_time": "2024-11-12T11:34:51.527116",
     "exception": false,
     "start_time": "2024-11-12T11:34:51.518451",
     "status": "completed"
    },
    "tags": []
   },
   "source": [
    "Potential IDs:  'track_id','track_album_id','playlist_id'\\\r\n",
    "Potential description: 'track_name','track_album_name','playlist_name'\\\r\n",
    "Potential key measures: 'track_popularity',\\\r\n",
    "Potential secondary measures: 'danceability','energy','key','loudness','mode','speechiness','acousticness','instrumentalness','liveness','valence','tempo','duration_ms'\\\r\n",
    "Potential categories: 'track_artist','playlist_genre','playlist_subgenre'\\\r\n",
    "Potential time series: 'track_album_release_date'"
   ]
  },
  {
   "cell_type": "code",
   "execution_count": 3,
   "id": "61ca1bf1",
   "metadata": {
    "execution": {
     "iopub.execute_input": "2024-11-12T11:34:51.547209Z",
     "iopub.status.busy": "2024-11-12T11:34:51.546719Z",
     "iopub.status.idle": "2024-11-12T11:34:51.603086Z",
     "shell.execute_reply": "2024-11-12T11:34:51.601762Z"
    },
    "papermill": {
     "duration": 0.070082,
     "end_time": "2024-11-12T11:34:51.606272",
     "exception": false,
     "start_time": "2024-11-12T11:34:51.536190",
     "status": "completed"
    },
    "tags": []
   },
   "outputs": [
    {
     "name": "stdout",
     "output_type": "stream",
     "text": [
      "track_id                    32833\n",
      "track_name                  32828\n",
      "track_artist                32828\n",
      "track_popularity            32833\n",
      "track_album_id              32833\n",
      "track_album_name            32828\n",
      "track_album_release_date    32833\n",
      "playlist_name               32833\n",
      "playlist_id                 32833\n",
      "playlist_genre              32833\n",
      "playlist_subgenre           32833\n",
      "danceability                32833\n",
      "energy                      32833\n",
      "key                         32833\n",
      "loudness                    32833\n",
      "mode                        32833\n",
      "speechiness                 32833\n",
      "acousticness                32833\n",
      "instrumentalness            32833\n",
      "liveness                    32833\n",
      "valence                     32833\n",
      "tempo                       32833\n",
      "duration_ms                 32833\n",
      "dtype: int64\n",
      "\n",
      "Distinct count for track_id: 28356\n"
     ]
    }
   ],
   "source": [
    "# Overview of distinct and null values\n",
    "distinct_1a = df['track_id'].nunique()\n",
    "print(df.count())\n",
    "print(f\"\\nDistinct count for track_id: {distinct_1a}\")"
   ]
  },
  {
   "cell_type": "markdown",
   "id": "b8e8c313",
   "metadata": {
    "papermill": {
     "duration": 0.008949,
     "end_time": "2024-11-12T11:34:51.624406",
     "exception": false,
     "start_time": "2024-11-12T11:34:51.615457",
     "status": "completed"
    },
    "tags": []
   },
   "source": [
    "We can see several duplicated values for track_id."
   ]
  },
  {
   "cell_type": "code",
   "execution_count": 4,
   "id": "158f8ae0",
   "metadata": {
    "execution": {
     "iopub.execute_input": "2024-11-12T11:34:51.645377Z",
     "iopub.status.busy": "2024-11-12T11:34:51.644912Z",
     "iopub.status.idle": "2024-11-12T11:34:51.684411Z",
     "shell.execute_reply": "2024-11-12T11:34:51.682902Z"
    },
    "papermill": {
     "duration": 0.053919,
     "end_time": "2024-11-12T11:34:51.687686",
     "exception": false,
     "start_time": "2024-11-12T11:34:51.633767",
     "status": "completed"
    },
    "tags": []
   },
   "outputs": [
    {
     "name": "stdout",
     "output_type": "stream",
     "text": [
      "                     track_id             track_name      track_artist  \\\n",
      "133    7BKLCZ1jbUBVqRi2FVlTVw  Closer (feat. Halsey)  The Chainsmokers   \n",
      "1731   7BKLCZ1jbUBVqRi2FVlTVw  Closer (feat. Halsey)  The Chainsmokers   \n",
      "2478   7BKLCZ1jbUBVqRi2FVlTVw  Closer (feat. Halsey)  The Chainsmokers   \n",
      "4535   7BKLCZ1jbUBVqRi2FVlTVw  Closer (feat. Halsey)  The Chainsmokers   \n",
      "7369   7BKLCZ1jbUBVqRi2FVlTVw  Closer (feat. Halsey)  The Chainsmokers   \n",
      "17467  7BKLCZ1jbUBVqRi2FVlTVw  Closer (feat. Halsey)  The Chainsmokers   \n",
      "18358  7BKLCZ1jbUBVqRi2FVlTVw  Closer (feat. Halsey)  The Chainsmokers   \n",
      "19770  7BKLCZ1jbUBVqRi2FVlTVw  Closer (feat. Halsey)  The Chainsmokers   \n",
      "23784  7BKLCZ1jbUBVqRi2FVlTVw  Closer (feat. Halsey)  The Chainsmokers   \n",
      "30629  7BKLCZ1jbUBVqRi2FVlTVw  Closer (feat. Halsey)  The Chainsmokers   \n",
      "\n",
      "       track_popularity          track_album_id       track_album_name  \\\n",
      "133                  85  0rSLgV8p5FzfnqlEk4GzxE  Closer (feat. Halsey)   \n",
      "1731                 85  0rSLgV8p5FzfnqlEk4GzxE  Closer (feat. Halsey)   \n",
      "2478                 85  0rSLgV8p5FzfnqlEk4GzxE  Closer (feat. Halsey)   \n",
      "4535                 85  0rSLgV8p5FzfnqlEk4GzxE  Closer (feat. Halsey)   \n",
      "7369                 85  0rSLgV8p5FzfnqlEk4GzxE  Closer (feat. Halsey)   \n",
      "17467                85  0rSLgV8p5FzfnqlEk4GzxE  Closer (feat. Halsey)   \n",
      "18358                85  0rSLgV8p5FzfnqlEk4GzxE  Closer (feat. Halsey)   \n",
      "19770                85  0rSLgV8p5FzfnqlEk4GzxE  Closer (feat. Halsey)   \n",
      "23784                85  0rSLgV8p5FzfnqlEk4GzxE  Closer (feat. Halsey)   \n",
      "30629                85  0rSLgV8p5FzfnqlEk4GzxE  Closer (feat. Halsey)   \n",
      "\n",
      "      track_album_release_date  \\\n",
      "133                 2016-07-29   \n",
      "1731                2016-07-29   \n",
      "2478                2016-07-29   \n",
      "4535                2016-07-29   \n",
      "7369                2016-07-29   \n",
      "17467               2016-07-29   \n",
      "18358               2016-07-29   \n",
      "19770               2016-07-29   \n",
      "23784               2016-07-29   \n",
      "30629               2016-07-29   \n",
      "\n",
      "                                           playlist_name  \\\n",
      "133                                            Dance Pop   \n",
      "1731                                       Post pop teen   \n",
      "2478                          Electropop Hits  2017-2020   \n",
      "4535               A Loose Definition of Indie Poptimism   \n",
      "7369   ◤ Hip Hop Dance Music – Urban – Trap – Breakin...   \n",
      "17467                         Tropical House Run 190 BPM   \n",
      "18358     2020 Hits & 2019  Hits – Top Global Tracks 🔥🔥🔥   \n",
      "19770     2020 Hits & 2019  Hits – Top Global Tracks 🔥🔥🔥   \n",
      "23784     2020 Hits & 2019  Hits – Top Global Tracks 🔥🔥🔥   \n",
      "30629                                         2015 songs   \n",
      "\n",
      "                  playlist_id playlist_genre  ... key  loudness  mode  \\\n",
      "133    37i9dQZF1DWZQaaqNMbbXa            pop  ...   8    -5.599     1   \n",
      "1731   222nc9tKxKhfZ2GBrOpwH3            pop  ...   8    -5.599     1   \n",
      "2478   7kyvBmlc1uSqsTL0EuNLrx            pop  ...   8    -5.599     1   \n",
      "4535   4ZO0wp9G8FA3X6oYNBzda6            pop  ...   8    -5.599     1   \n",
      "7369   0Hr2h94pKN8QAGVAgD6BsD            rap  ...   8    -5.599     1   \n",
      "17467  37i9dQZF1DWSTc9FdySHtz          latin  ...   8    -5.599     1   \n",
      "18358  4JkkvMpVl4lSioqQjeAL0q          latin  ...   8    -5.599     1   \n",
      "19770  4JkkvMpVl4lSioqQjeAL0q          latin  ...   8    -5.599     1   \n",
      "23784  4JkkvMpVl4lSioqQjeAL0q            r&b  ...   8    -5.599     1   \n",
      "30629  6UJw1egIcZVfrBmcKs5uHH            edm  ...   8    -5.599     1   \n",
      "\n",
      "       speechiness  acousticness  instrumentalness  liveness  valence  tempo  \\\n",
      "133         0.0338         0.414               0.0     0.111    0.661  95.01   \n",
      "1731        0.0338         0.414               0.0     0.111    0.661  95.01   \n",
      "2478        0.0338         0.414               0.0     0.111    0.661  95.01   \n",
      "4535        0.0338         0.414               0.0     0.111    0.661  95.01   \n",
      "7369        0.0338         0.414               0.0     0.111    0.661  95.01   \n",
      "17467       0.0338         0.414               0.0     0.111    0.661  95.01   \n",
      "18358       0.0338         0.414               0.0     0.111    0.661  95.01   \n",
      "19770       0.0338         0.414               0.0     0.111    0.661  95.01   \n",
      "23784       0.0338         0.414               0.0     0.111    0.661  95.01   \n",
      "30629       0.0338         0.414               0.0     0.111    0.661  95.01   \n",
      "\n",
      "       duration_ms  \n",
      "133         244960  \n",
      "1731        244960  \n",
      "2478        244960  \n",
      "4535        244960  \n",
      "7369        244960  \n",
      "17467       244960  \n",
      "18358       244960  \n",
      "19770       244960  \n",
      "23784       244960  \n",
      "30629       244960  \n",
      "\n",
      "[10 rows x 23 columns]\n"
     ]
    }
   ],
   "source": [
    "dupl_ids = df[df.duplicated('track_id', keep=False)]\n",
    "first_dupl = dupl_ids['track_id'].value_counts().index[0]\n",
    "all_first_dupl = df[df['track_id'] == first_dupl]\n",
    "print(all_first_dupl)"
   ]
  },
  {
   "cell_type": "markdown",
   "id": "265274df",
   "metadata": {
    "papermill": {
     "duration": 0.009172,
     "end_time": "2024-11-12T11:34:51.706370",
     "exception": false,
     "start_time": "2024-11-12T11:34:51.697198",
     "status": "completed"
    },
    "tags": []
   },
   "source": [
    "Duplicates are explained because of the participation of tracks in several playlists.\r\n",
    "We will discard playlist information from now on for this project."
   ]
  },
  {
   "cell_type": "code",
   "execution_count": 5,
   "id": "3a3b4753",
   "metadata": {
    "execution": {
     "iopub.execute_input": "2024-11-12T11:34:51.726685Z",
     "iopub.status.busy": "2024-11-12T11:34:51.726228Z",
     "iopub.status.idle": "2024-11-12T11:34:51.808073Z",
     "shell.execute_reply": "2024-11-12T11:34:51.806872Z"
    },
    "papermill": {
     "duration": 0.095243,
     "end_time": "2024-11-12T11:34:51.810939",
     "exception": false,
     "start_time": "2024-11-12T11:34:51.715696",
     "status": "completed"
    },
    "tags": []
   },
   "outputs": [],
   "source": [
    "columns_to_drop = ['playlist_name', 'playlist_id', 'playlist_genre', 'playlist_subgenre']\n",
    "df = df.drop(columns=columns_to_drop)\n",
    "df = df.drop_duplicates()"
   ]
  },
  {
   "cell_type": "code",
   "execution_count": 6,
   "id": "2b43fec2",
   "metadata": {
    "execution": {
     "iopub.execute_input": "2024-11-12T11:34:51.833096Z",
     "iopub.status.busy": "2024-11-12T11:34:51.832586Z",
     "iopub.status.idle": "2024-11-12T11:34:51.869673Z",
     "shell.execute_reply": "2024-11-12T11:34:51.868382Z"
    },
    "papermill": {
     "duration": 0.052397,
     "end_time": "2024-11-12T11:34:51.872689",
     "exception": false,
     "start_time": "2024-11-12T11:34:51.820292",
     "status": "completed"
    },
    "tags": []
   },
   "outputs": [
    {
     "name": "stdout",
     "output_type": "stream",
     "text": [
      "\n",
      "Distinct count for track_id: 28356\n",
      "track_id                    28356\n",
      "track_name                  28352\n",
      "track_artist                28352\n",
      "track_popularity            28356\n",
      "track_album_id              28356\n",
      "track_album_name            28352\n",
      "track_album_release_date    28356\n",
      "danceability                28356\n",
      "energy                      28356\n",
      "key                         28356\n",
      "loudness                    28356\n",
      "mode                        28356\n",
      "speechiness                 28356\n",
      "acousticness                28356\n",
      "instrumentalness            28356\n",
      "liveness                    28356\n",
      "valence                     28356\n",
      "tempo                       28356\n",
      "duration_ms                 28356\n",
      "dtype: int64\n"
     ]
    }
   ],
   "source": [
    "distinct_1a = df['track_id'].nunique()\n",
    "print(f\"\\nDistinct count for track_id: {distinct_1a}\")\n",
    "print(df.count())"
   ]
  },
  {
   "cell_type": "markdown",
   "id": "efe7960d",
   "metadata": {
    "papermill": {
     "duration": 0.009784,
     "end_time": "2024-11-12T11:34:51.891912",
     "exception": false,
     "start_time": "2024-11-12T11:34:51.882128",
     "status": "completed"
    },
    "tags": []
   },
   "source": [
    "## Data exploration\r\n",
    "We are trying to divide columns in threee groups: Measures (that will lead to metrics and KPIS), categories (to filter), and time series (to look for trends)."
   ]
  },
  {
   "cell_type": "code",
   "execution_count": 7,
   "id": "e9054ff7",
   "metadata": {
    "execution": {
     "iopub.execute_input": "2024-11-12T11:34:51.913917Z",
     "iopub.status.busy": "2024-11-12T11:34:51.913014Z",
     "iopub.status.idle": "2024-11-12T11:34:52.005095Z",
     "shell.execute_reply": "2024-11-12T11:34:52.003603Z"
    },
    "papermill": {
     "duration": 0.107311,
     "end_time": "2024-11-12T11:34:52.008968",
     "exception": false,
     "start_time": "2024-11-12T11:34:51.901657",
     "status": "completed"
    },
    "tags": []
   },
   "outputs": [
    {
     "name": "stdout",
     "output_type": "stream",
     "text": [
      "<class 'pandas.core.frame.DataFrame'>\n",
      "Index: 28356 entries, 0 to 32832\n",
      "Data columns (total 19 columns):\n",
      " #   Column                    Non-Null Count  Dtype  \n",
      "---  ------                    --------------  -----  \n",
      " 0   track_id                  28356 non-null  object \n",
      " 1   track_name                28352 non-null  object \n",
      " 2   track_artist              28352 non-null  object \n",
      " 3   track_popularity          28356 non-null  int64  \n",
      " 4   track_album_id            28356 non-null  object \n",
      " 5   track_album_name          28352 non-null  object \n",
      " 6   track_album_release_date  28356 non-null  object \n",
      " 7   danceability              28356 non-null  float64\n",
      " 8   energy                    28356 non-null  float64\n",
      " 9   key                       28356 non-null  int64  \n",
      " 10  loudness                  28356 non-null  float64\n",
      " 11  mode                      28356 non-null  int64  \n",
      " 12  speechiness               28356 non-null  float64\n",
      " 13  acousticness              28356 non-null  float64\n",
      " 14  instrumentalness          28356 non-null  float64\n",
      " 15  liveness                  28356 non-null  float64\n",
      " 16  valence                   28356 non-null  float64\n",
      " 17  tempo                     28356 non-null  float64\n",
      " 18  duration_ms               28356 non-null  int64  \n",
      "dtypes: float64(9), int64(4), object(6)\n",
      "memory usage: 4.3+ MB\n",
      "None\n",
      "       track_popularity  danceability        energy           key  \\\n",
      "count      28356.000000  28356.000000  28356.000000  28356.000000   \n",
      "mean          39.329771      0.653372      0.698388      5.368000   \n",
      "std           23.702376      0.145785      0.183503      3.613904   \n",
      "min            0.000000      0.000000      0.000175      0.000000   \n",
      "25%           21.000000      0.561000      0.579000      2.000000   \n",
      "50%           42.000000      0.670000      0.722000      6.000000   \n",
      "75%           58.000000      0.760000      0.843000      9.000000   \n",
      "max          100.000000      0.983000      1.000000     11.000000   \n",
      "\n",
      "           loudness          mode   speechiness  acousticness  \\\n",
      "count  28356.000000  28356.000000  28356.000000  28356.000000   \n",
      "mean      -6.817696      0.565489      0.107954      0.177176   \n",
      "std        3.036243      0.495701      0.102556      0.222803   \n",
      "min      -46.448000      0.000000      0.000000      0.000000   \n",
      "25%       -8.309250      0.000000      0.041000      0.014375   \n",
      "50%       -6.261000      1.000000      0.062600      0.079700   \n",
      "75%       -4.709000      1.000000      0.133000      0.260000   \n",
      "max        1.275000      1.000000      0.918000      0.994000   \n",
      "\n",
      "       instrumentalness      liveness       valence        tempo  \\\n",
      "count      28356.000000  28356.000000  28356.000000  28356.00000   \n",
      "mean           0.091117      0.190958      0.510387    120.95618   \n",
      "std            0.232548      0.155894      0.234340     26.95456   \n",
      "min            0.000000      0.000000      0.000000      0.00000   \n",
      "25%            0.000000      0.092600      0.329000     99.97200   \n",
      "50%            0.000021      0.127000      0.512000    121.99300   \n",
      "75%            0.006570      0.249000      0.695000    133.99900   \n",
      "max            0.994000      0.996000      0.991000    239.44000   \n",
      "\n",
      "         duration_ms  \n",
      "count   28356.000000  \n",
      "mean   226575.967026  \n",
      "std     61078.450819  \n",
      "min      4000.000000  \n",
      "25%    187742.000000  \n",
      "50%    216933.000000  \n",
      "75%    254975.250000  \n",
      "max    517810.000000  \n",
      "                 track_id                                         track_name  \\\n",
      "0  6f807x0ima9a1j3VPbc7VN  I Don't Care (with Justin Bieber) - Loud Luxur...   \n",
      "1  0r7CVbZTWZgbTCYdfa2P31                    Memories - Dillon Francis Remix   \n",
      "2  1z1Hg7Vb0AhHDiEmnDE79l                    All the Time - Don Diablo Remix   \n",
      "3  75FpbthrwQmzHlBJLuGdC7                  Call You Mine - Keanu Silva Remix   \n",
      "4  1e8PAfcKUYoKkxPhrHqw4x            Someone You Loved - Future Humans Remix   \n",
      "\n",
      "       track_artist  track_popularity          track_album_id  \\\n",
      "0        Ed Sheeran                66  2oCs0DGTsRO98Gh5ZSl2Cx   \n",
      "1          Maroon 5                67  63rPSO264uRjW1X5E6cWv6   \n",
      "2      Zara Larsson                70  1HoSmj2eLcsrR0vE9gThr4   \n",
      "3  The Chainsmokers                60  1nqYsOef1yKKuGOVchbsk6   \n",
      "4     Lewis Capaldi                69  7m7vv9wlQ4i0LFuJiE2zsQ   \n",
      "\n",
      "                                    track_album_name track_album_release_date  \\\n",
      "0  I Don't Care (with Justin Bieber) [Loud Luxury...               2019-06-14   \n",
      "1                    Memories (Dillon Francis Remix)               2019-12-13   \n",
      "2                    All the Time (Don Diablo Remix)               2019-07-05   \n",
      "3                        Call You Mine - The Remixes               2019-07-19   \n",
      "4            Someone You Loved (Future Humans Remix)               2019-03-05   \n",
      "\n",
      "   danceability  energy  key  loudness  mode  speechiness  acousticness  \\\n",
      "0         0.748   0.916    6    -2.634     1       0.0583        0.1020   \n",
      "1         0.726   0.815   11    -4.969     1       0.0373        0.0724   \n",
      "2         0.675   0.931    1    -3.432     0       0.0742        0.0794   \n",
      "3         0.718   0.930    7    -3.778     1       0.1020        0.0287   \n",
      "4         0.650   0.833    1    -4.672     1       0.0359        0.0803   \n",
      "\n",
      "   instrumentalness  liveness  valence    tempo  duration_ms  \n",
      "0          0.000000    0.0653    0.518  122.036       194754  \n",
      "1          0.004210    0.3570    0.693   99.972       162600  \n",
      "2          0.000023    0.1100    0.613  124.008       176616  \n",
      "3          0.000009    0.2040    0.277  121.956       169093  \n",
      "4          0.000000    0.0833    0.725  123.976       189052  \n"
     ]
    }
   ],
   "source": [
    "print(df.info())\n",
    "print(df.describe())\n",
    "print(df.head())"
   ]
  },
  {
   "cell_type": "markdown",
   "id": "7627f935",
   "metadata": {
    "papermill": {
     "duration": 0.009578,
     "end_time": "2024-11-12T11:34:52.028732",
     "exception": false,
     "start_time": "2024-11-12T11:34:52.019154",
     "status": "completed"
    },
    "tags": []
   },
   "source": [
    "Potential IDs:  'track_id','track_album_id'\\\r\n",
    "Potential description: 'track_name','track_album_name'\\\r\n",
    "Potential key measures: 'track_popularity',\\\r\n",
    "Potential secondary measures: 'danceability','energy','key','loudness','mode','speechiness','acousticness','instrumentalness','liveness','valence','tempo','duration_ms'\\\r\n",
    "Potential categories: 'track_artist'\\\r\n",
    "Potential time series: 'track_album_release_date'"
   ]
  },
  {
   "cell_type": "code",
   "execution_count": 8,
   "id": "6b483292",
   "metadata": {
    "execution": {
     "iopub.execute_input": "2024-11-12T11:34:52.050315Z",
     "iopub.status.busy": "2024-11-12T11:34:52.049816Z",
     "iopub.status.idle": "2024-11-12T11:34:52.056220Z",
     "shell.execute_reply": "2024-11-12T11:34:52.054904Z"
    },
    "papermill": {
     "duration": 0.020611,
     "end_time": "2024-11-12T11:34:52.059065",
     "exception": false,
     "start_time": "2024-11-12T11:34:52.038454",
     "status": "completed"
    },
    "tags": []
   },
   "outputs": [],
   "source": [
    "measures = ['track_popularity','danceability','energy','key','loudness','mode','speechiness','acousticness','instrumentalness','liveness','valence','tempo','duration_ms']\n",
    "categories = ['track_artist']\n",
    "time_series = ['track_album_release_date']"
   ]
  },
  {
   "cell_type": "markdown",
   "id": "da45b20d",
   "metadata": {
    "papermill": {
     "duration": 0.00936,
     "end_time": "2024-11-12T11:34:52.078217",
     "exception": false,
     "start_time": "2024-11-12T11:34:52.068857",
     "status": "completed"
    },
    "tags": []
   },
   "source": [
    "### Measures"
   ]
  },
  {
   "cell_type": "code",
   "execution_count": 9,
   "id": "8e676c7d",
   "metadata": {
    "execution": {
     "iopub.execute_input": "2024-11-12T11:34:52.099484Z",
     "iopub.status.busy": "2024-11-12T11:34:52.099068Z",
     "iopub.status.idle": "2024-11-12T11:34:52.157395Z",
     "shell.execute_reply": "2024-11-12T11:34:52.155865Z"
    },
    "papermill": {
     "duration": 0.07215,
     "end_time": "2024-11-12T11:34:52.160127",
     "exception": false,
     "start_time": "2024-11-12T11:34:52.087977",
     "status": "completed"
    },
    "tags": []
   },
   "outputs": [
    {
     "name": "stdout",
     "output_type": "stream",
     "text": [
      "Measures\n",
      "\n",
      "       track_popularity  danceability        energy           key  \\\n",
      "count      28356.000000  28356.000000  28356.000000  28356.000000   \n",
      "mean          39.329771      0.653372      0.698388      5.368000   \n",
      "std           23.702376      0.145785      0.183503      3.613904   \n",
      "min            0.000000      0.000000      0.000175      0.000000   \n",
      "25%           21.000000      0.561000      0.579000      2.000000   \n",
      "50%           42.000000      0.670000      0.722000      6.000000   \n",
      "75%           58.000000      0.760000      0.843000      9.000000   \n",
      "max          100.000000      0.983000      1.000000     11.000000   \n",
      "\n",
      "           loudness          mode   speechiness  acousticness  \\\n",
      "count  28356.000000  28356.000000  28356.000000  28356.000000   \n",
      "mean      -6.817696      0.565489      0.107954      0.177176   \n",
      "std        3.036243      0.495701      0.102556      0.222803   \n",
      "min      -46.448000      0.000000      0.000000      0.000000   \n",
      "25%       -8.309250      0.000000      0.041000      0.014375   \n",
      "50%       -6.261000      1.000000      0.062600      0.079700   \n",
      "75%       -4.709000      1.000000      0.133000      0.260000   \n",
      "max        1.275000      1.000000      0.918000      0.994000   \n",
      "\n",
      "       instrumentalness      liveness       valence        tempo  \\\n",
      "count      28356.000000  28356.000000  28356.000000  28356.00000   \n",
      "mean           0.091117      0.190958      0.510387    120.95618   \n",
      "std            0.232548      0.155894      0.234340     26.95456   \n",
      "min            0.000000      0.000000      0.000000      0.00000   \n",
      "25%            0.000000      0.092600      0.329000     99.97200   \n",
      "50%            0.000021      0.127000      0.512000    121.99300   \n",
      "75%            0.006570      0.249000      0.695000    133.99900   \n",
      "max            0.994000      0.996000      0.991000    239.44000   \n",
      "\n",
      "         duration_ms  \n",
      "count   28356.000000  \n",
      "mean   226575.967026  \n",
      "std     61078.450819  \n",
      "min      4000.000000  \n",
      "25%    187742.000000  \n",
      "50%    216933.000000  \n",
      "75%    254975.250000  \n",
      "max    517810.000000  \n",
      "\n"
     ]
    }
   ],
   "source": [
    "print(f\"Measures\\n\\n{df[measures].describe()}\\n\")"
   ]
  },
  {
   "cell_type": "markdown",
   "id": "fae45504",
   "metadata": {
    "papermill": {
     "duration": 0.009606,
     "end_time": "2024-11-12T11:34:52.179652",
     "exception": false,
     "start_time": "2024-11-12T11:34:52.170046",
     "status": "completed"
    },
    "tags": []
   },
   "source": [
    "* 0 (zero) for tempo is unusual, maybe experimental music.\r\n",
    "* mode is boolean\r\n",
    "* *ness and valence measures are normalized from 0 to 1, except loudness, which is in another measure."
   ]
  },
  {
   "cell_type": "code",
   "execution_count": 10,
   "id": "41ddcece",
   "metadata": {
    "execution": {
     "iopub.execute_input": "2024-11-12T11:34:52.201659Z",
     "iopub.status.busy": "2024-11-12T11:34:52.201209Z",
     "iopub.status.idle": "2024-11-12T11:34:52.215831Z",
     "shell.execute_reply": "2024-11-12T11:34:52.214505Z"
    },
    "papermill": {
     "duration": 0.028848,
     "end_time": "2024-11-12T11:34:52.218659",
     "exception": false,
     "start_time": "2024-11-12T11:34:52.189811",
     "status": "completed"
    },
    "tags": []
   },
   "outputs": [
    {
     "name": "stdout",
     "output_type": "stream",
     "text": [
      "                     track_id             track_name      track_artist  \\\n",
      "11363  51w6nRCU68klqNfYaaVP2j  Hi, How're You Doin'?  DREAMS COME TRUE   \n",
      "\n",
      "       track_popularity          track_album_id  track_album_name  \\\n",
      "11363                 0  4wdK52JVu5GzhxW3RCZ3AV  Dreams Come True   \n",
      "\n",
      "      track_album_release_date  danceability  energy  key  loudness  mode  \\\n",
      "11363               1989-03-21           0.0   0.315    1   -26.087     1   \n",
      "\n",
      "       speechiness  acousticness  instrumentalness  liveness  valence  tempo  \\\n",
      "11363          0.0           0.0               0.0       0.0      0.0    0.0   \n",
      "\n",
      "       duration_ms  \n",
      "11363         4000  \n"
     ]
    }
   ],
   "source": [
    "print(df[df['tempo'] <= 30])"
   ]
  },
  {
   "cell_type": "markdown",
   "id": "d5da97a7",
   "metadata": {
    "papermill": {
     "duration": 0.010039,
     "end_time": "2024-11-12T11:34:52.239066",
     "exception": false,
     "start_time": "2024-11-12T11:34:52.229027",
     "status": "completed"
    },
    "tags": []
   },
   "source": [
    "This represents an outlier."
   ]
  },
  {
   "cell_type": "markdown",
   "id": "602ed575",
   "metadata": {
    "papermill": {
     "duration": 0.009671,
     "end_time": "2024-11-12T11:34:52.258672",
     "exception": false,
     "start_time": "2024-11-12T11:34:52.249001",
     "status": "completed"
    },
    "tags": []
   },
   "source": [
    "### Categories"
   ]
  },
  {
   "cell_type": "code",
   "execution_count": 11,
   "id": "ebcf06d9",
   "metadata": {
    "execution": {
     "iopub.execute_input": "2024-11-12T11:34:52.281264Z",
     "iopub.status.busy": "2024-11-12T11:34:52.280805Z",
     "iopub.status.idle": "2024-11-12T11:34:52.305897Z",
     "shell.execute_reply": "2024-11-12T11:34:52.304447Z"
    },
    "papermill": {
     "duration": 0.039884,
     "end_time": "2024-11-12T11:34:52.308590",
     "exception": false,
     "start_time": "2024-11-12T11:34:52.268706",
     "status": "completed"
    },
    "tags": []
   },
   "outputs": [
    {
     "name": "stdout",
     "output_type": "stream",
     "text": [
      "Categories\n",
      "\n",
      "       track_artist\n",
      "count         28352\n",
      "unique        10692\n",
      "top           Queen\n",
      "freq            130\n",
      "\n"
     ]
    }
   ],
   "source": [
    "print(f\"Categories\\n\\n{df[categories].describe()}\\n\")"
   ]
  },
  {
   "cell_type": "markdown",
   "id": "be6a1524",
   "metadata": {
    "papermill": {
     "duration": 0.009957,
     "end_time": "2024-11-12T11:34:52.329076",
     "exception": false,
     "start_time": "2024-11-12T11:34:52.319119",
     "status": "completed"
    },
    "tags": []
   },
   "source": [
    "### Time series"
   ]
  },
  {
   "cell_type": "code",
   "execution_count": 12,
   "id": "89206fbb",
   "metadata": {
    "execution": {
     "iopub.execute_input": "2024-11-12T11:34:52.352541Z",
     "iopub.status.busy": "2024-11-12T11:34:52.352097Z",
     "iopub.status.idle": "2024-11-12T11:34:52.378141Z",
     "shell.execute_reply": "2024-11-12T11:34:52.376166Z"
    },
    "papermill": {
     "duration": 0.041254,
     "end_time": "2024-11-12T11:34:52.380954",
     "exception": false,
     "start_time": "2024-11-12T11:34:52.339700",
     "status": "completed"
    },
    "tags": []
   },
   "outputs": [
    {
     "name": "stdout",
     "output_type": "stream",
     "text": [
      "Time series\n",
      "\n",
      "            track_album_release_date\n",
      "count                          28356\n",
      "mean   2011-07-06 21:07:26.381718272\n",
      "min              1957-01-01 00:00:00\n",
      "25%              2008-01-28 00:00:00\n",
      "50%              2016-06-13 00:00:00\n",
      "75%              2019-03-17 00:00:00\n",
      "max              2020-01-29 00:00:00\n"
     ]
    }
   ],
   "source": [
    "for col in time_series:\n",
    "    df[col] = pd.to_datetime(df[col], errors='coerce', format='mixed')\n",
    "print(f\"Time series\\n\\n{df[time_series].describe()}\")"
   ]
  },
  {
   "cell_type": "markdown",
   "id": "2a82fa6a",
   "metadata": {
    "papermill": {
     "duration": 0.01008,
     "end_time": "2024-11-12T11:34:52.401376",
     "exception": false,
     "start_time": "2024-11-12T11:34:52.391296",
     "status": "completed"
    },
    "tags": []
   },
   "source": [
    "## Exploratory findings\r\n",
    "1. We've found several duplicated values for track_id. Duplicates are explained because of the participation of tracks in several playlists.\r\n",
    "2. Dataset includes songs from 1957 to 2020 but 75% of them are from 2008 or newer.\r\n",
    "3. Data is consistent and it's ready for visualization."
   ]
  },
  {
   "cell_type": "markdown",
   "id": "662e00cf",
   "metadata": {
    "papermill": {
     "duration": 0.009941,
     "end_time": "2024-11-12T11:34:52.421716",
     "exception": false,
     "start_time": "2024-11-12T11:34:52.411775",
     "status": "completed"
    },
    "tags": []
   },
   "source": [
    "## Data export"
   ]
  },
  {
   "cell_type": "code",
   "execution_count": 13,
   "id": "f93e214b",
   "metadata": {
    "execution": {
     "iopub.execute_input": "2024-11-12T11:34:52.445310Z",
     "iopub.status.busy": "2024-11-12T11:34:52.443950Z",
     "iopub.status.idle": "2024-11-12T11:34:53.064755Z",
     "shell.execute_reply": "2024-11-12T11:34:53.063384Z"
    },
    "papermill": {
     "duration": 0.635741,
     "end_time": "2024-11-12T11:34:53.067605",
     "exception": false,
     "start_time": "2024-11-12T11:34:52.431864",
     "status": "completed"
    },
    "tags": []
   },
   "outputs": [],
   "source": [
    "df.to_csv('spotify_songs_clean.csv', index=False)"
   ]
  }
 ],
 "metadata": {
  "kaggle": {
   "accelerator": "none",
   "dataSources": [
    {
     "datasetId": 3938173,
     "sourceId": 6851382,
     "sourceType": "datasetVersion"
    }
   ],
   "dockerImageVersionId": 30786,
   "isGpuEnabled": false,
   "isInternetEnabled": false,
   "language": "python",
   "sourceType": "notebook"
  },
  "kernelspec": {
   "display_name": "Python 3",
   "language": "python",
   "name": "python3"
  },
  "language_info": {
   "codemirror_mode": {
    "name": "ipython",
    "version": 3
   },
   "file_extension": ".py",
   "mimetype": "text/x-python",
   "name": "python",
   "nbconvert_exporter": "python",
   "pygments_lexer": "ipython3",
   "version": "3.10.14"
  },
  "papermill": {
   "default_parameters": {},
   "duration": 7.269598,
   "end_time": "2024-11-12T11:34:53.600165",
   "environment_variables": {},
   "exception": null,
   "input_path": "__notebook__.ipynb",
   "output_path": "__notebook__.ipynb",
   "parameters": {},
   "start_time": "2024-11-12T11:34:46.330567",
   "version": "2.6.0"
  }
 },
 "nbformat": 4,
 "nbformat_minor": 5
}
